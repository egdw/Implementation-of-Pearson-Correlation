{
  "nbformat": 4,
  "nbformat_minor": 0,
  "metadata": {
    "colab": {
      "name": "皮尔逊公式.ipynb",
      "provenance": [],
      "collapsed_sections": []
    },
    "kernelspec": {
      "name": "python3",
      "display_name": "Python 3"
    }
  },
  "cells": [
    {
      "cell_type": "code",
      "metadata": {
        "id": "tdQXFBuHOLKG"
      },
      "source": [
        "import numpy as np\n",
        "import math"
      ],
      "execution_count": 112,
      "outputs": []
    },
    {
      "cell_type": "markdown",
      "metadata": {
        "id": "LrAJwN5qE2DR"
      },
      "source": [
        "# 协方差公式\n",
        "\n",
        "这里的$E$表示的是期望，$E$在这里可以看成求和。\n",
        "\n",
        "$$\n",
        "\\operatorname{Cov}(X, Y)=E\\left[\\left(X-\\mu_{x}\\right)\\left(Y-\\mu_{y}\\right)\\right]\n",
        "$$"
      ]
    },
    {
      "cell_type": "code",
      "metadata": {
        "id": "2aGalLWKEUgZ"
      },
      "source": [
        "def cov(X,Y):\n",
        "  x_avg = X.mean(axis=0,dtype=np.float64)\n",
        "  y_avg = Y.mean(axis=0,dtype=np.float64)\n",
        "  return ((X-x_avg)*(Y-y_avg)).sum()"
      ],
      "execution_count": 113,
      "outputs": []
    },
    {
      "cell_type": "code",
      "metadata": {
        "id": "aBFxXzADQRLz",
        "outputId": "65115a97-551f-45e6-c6e4-21d503eb8374",
        "colab": {
          "base_uri": "https://localhost:8080/"
        }
      },
      "source": [
        "X = np.array(\n",
        "    [[1,2,3],\n",
        "     [4,5,6],\n",
        "     [7,8,9]]\n",
        ").reshape((3,3))\n",
        "\n",
        "Y = np.array(\n",
        "    [[7,8,9],\n",
        "     [4,5,6],\n",
        "     [1,2,3]]\n",
        ").reshape((3,3))\n",
        "\n",
        "cov(X,Y)"
      ],
      "execution_count": 114,
      "outputs": [
        {
          "output_type": "execute_result",
          "data": {
            "text/plain": [
              "-54.0"
            ]
          },
          "metadata": {
            "tags": []
          },
          "execution_count": 114
        }
      ]
    },
    {
      "cell_type": "markdown",
      "metadata": {
        "id": "HXVxZ-nwE7cK"
      },
      "source": [
        "# 皮尔逊公式\n",
        "$$\n",
        "\\operatorname{pearson}(u, v)=\\frac{x和y的协方差}{(x的标准差 * y的标准差)}\n",
        "$$\n",
        "\n",
        "具体可以表示成下面这种形式：\n",
        "\n",
        "$$ \n",
        "\\operatorname{pearson}(u, v)=\\frac{\\sum_{k \\in I_{v} \\cap I_{v}}\\left(r_{u k}-\\mu_{u}\\right)\\left(r_{v k}-\\mu_{v}\\right)}{\\sqrt{\\sum_{k \\in I_{u} \\cap I_{v}}\\left(r_{u k}-\\mu_{u}\\right)^{2}} \\cdot \\sqrt{\\sum_{k \\in I_{u} \\cap I_{v}}\\left(r_{u k}-\\mu_{u}\\right)^{2}}} \n",
        "$$\n",
        "\n",
        "\n",
        "也可以表示成为下面的形式：\n",
        "\n",
        "$$\n",
        "P_{x, y}=\\frac{\\operatorname{cov}(x, y)}{\\sigma_{x} \\sigma_{y}}=\\frac{E\\left[\\left(x-x_{i}\\right)\\left(y-y_{i}\\right)\\right]}{\\sigma_{x} \\sigma_{y}}\n",
        "$$\n",
        "\n",
        "这里的$\\sigma_{x}$和$\\sigma_{y}$分别表示$x$和$y$的标准差，但是比较奇怪的是网上查询出来的标准差应该是下面的形式，需要除于总数，而这上面并没有。\n",
        "\n",
        "$$\n",
        "\\sigma=\\sqrt{\\frac{\\sum_{i=1}^{n}\\left(x_{i}-\\bar{x}\\right)^{2}}{n}}\n",
        "$$\n",
        "\n",
        "所以综上所述，这里的$\\sigma_{x}$其实是下面的公式：\n",
        "$$\n",
        "\\sigma=\\sqrt{\\sum_{i=1}^{n}\\left(x_{i}-\\bar{x}\\right)^{2}}\n",
        "$$\n"
      ]
    },
    {
      "cell_type": "code",
      "metadata": {
        "id": "d5EkOcs6E_ou"
      },
      "source": [
        "def pearson(X,Y):\n",
        "  x_avg = X.mean(axis=0,dtype=np.float64)\n",
        "  y_avg = Y.mean(axis=0,dtype=np.float64)\n",
        "  # print(math.sqrt(((X-x_avg)*(X-x_avg)).mean()))\n",
        "  # print(math.sqrt(((Y-y_avg)*(Y-y_avg)).mean()))\n",
        "  # print(cov(X,Y))\n",
        "  # print(((X-x_avg)**2).sum())\n",
        "  # print(((Y-y_avg)**2).sum())\n",
        "\n",
        "  # print(math.sqrt(((X-x_avg)**2).sum()))\n",
        "  # print(\"%s/%s\"%(cov(X,Y),(math.sqrt(((X-x_avg)**2).sum()))*(math.sqrt(((Y-y_avg)**2).sum()))))\n",
        "  # print(float(cov(X,Y))/54.0)\n",
        "  # print(type((math.sqrt(((X-x_avg)**2).sum()))*(math.sqrt(((Y-y_avg)**2).sum()))))\n",
        "  # print(cov(X,Y)/(math.sqrt(((X-x_avg)**2).sum()))*(math.sqrt(((Y-y_avg)**2).sum())))\n",
        "  return float(cov(X,Y))/float((math.sqrt(((X-x_avg)**2).sum()))*(math.sqrt(((Y-y_avg)**2).sum())))"
      ],
      "execution_count": 119,
      "outputs": []
    },
    {
      "cell_type": "code",
      "metadata": {
        "id": "3LPhX-PyTkIy",
        "outputId": "f8190aa4-0376-40bf-cd97-c94a15d45b72",
        "colab": {
          "base_uri": "https://localhost:8080/"
        }
      },
      "source": [
        "print(pearson(X,Y))"
      ],
      "execution_count": 116,
      "outputs": [
        {
          "output_type": "stream",
          "text": [
            "-54.0\n",
            "-1.0\n"
          ],
          "name": "stdout"
        }
      ]
    },
    {
      "cell_type": "code",
      "metadata": {
        "id": "Lc-ybQi_TyPs",
        "outputId": "4c419665-fbc1-44f6-d8e9-04e34e954607",
        "colab": {
          "base_uri": "https://localhost:8080/"
        }
      },
      "source": [
        "# test data\n",
        "# -0.2738612787525831\n",
        "x= np.array([3,1,2,2,1,3]).reshape(6,1)\n",
        "y= np.array([1,2,3,2,1,1]).reshape(6,1)\n",
        "pearson(x,y)"
      ],
      "execution_count": 120,
      "outputs": [
        {
          "output_type": "execute_result",
          "data": {
            "text/plain": [
              "-0.27386127875258304"
            ]
          },
          "metadata": {
            "tags": []
          },
          "execution_count": 120
        }
      ]
    },
    {
      "cell_type": "code",
      "metadata": {
        "id": "fuS4-MYKkXw6"
      },
      "source": [
        ""
      ],
      "execution_count": 117,
      "outputs": []
    }
  ]
}